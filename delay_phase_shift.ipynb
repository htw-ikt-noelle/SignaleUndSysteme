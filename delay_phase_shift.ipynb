{
 "cells": [
  {
   "cell_type": "code",
   "execution_count": 1,
   "id": "06fb8703-1b1f-4639-807c-08124b708850",
   "metadata": {
    "jupyter": {
     "source_hidden": true
    },
    "tags": []
   },
   "outputs": [],
   "source": [
    "import matplotlib.pyplot as plt\n",
    "import numpy as np\n",
    "import scipy.signal as signal\n",
    "import scipy as sp\n",
    "import ipywidgets as widgets\n",
    "\n",
    "%config InlineBackend.figure_format = 'svg'\n",
    "\n",
    "plt.style.use('noelle.mplstyle')"
   ]
  },
  {
   "cell_type": "code",
   "execution_count": 2,
   "id": "a5b9e940-33ce-4c4a-acf8-e16b978d0b1a",
   "metadata": {
    "jupyter": {
     "source_hidden": true
    },
    "tags": []
   },
   "outputs": [],
   "source": [
    "def draw_signals(tau=0, phi=0):\n",
    "    sr = 1000    \n",
    "    t = np.arange(0, 1, 1/sr)\n",
    "    f = np.asarray([1.5, 3, 6])\n",
    "    w = 2 * np.pi * f\n",
    "\n",
    "    sig = np.cos(w[:,np.newaxis] * (t-tau) + phi)\n",
    "    sig0 = np.cos(w[:,np.newaxis] * t)\n",
    "\n",
    "\n",
    "    n_row = 3\n",
    "    n_col = 3\n",
    "    fig_size = [i*j for i,j in zip(plt.rcParams['figure.figsize'], [n_col, n_row])]\n",
    "    fig = plt.figure(figsize=fig_size)\n",
    "\n",
    "    ax0 = fig.add_subplot(n_row, n_col, 1)\n",
    "    ax0.plot(t, sig[0], color='C0')\n",
    "    ax0.plot(t, sig0[0], color='C0', alpha=0.15)\n",
    "    #ax0.axvline(tau, color='r', ls='--')\n",
    "    plt.tick_params('x', labelbottom=False)\n",
    "    ax0.set(ylabel='Amplitude')\n",
    "    \n",
    "    ax1 = fig.add_subplot(n_row, n_col, 4, sharex=ax0)\n",
    "    ax1.plot(t, sig[1], color='C1')\n",
    "    ax1.plot(t, sig0[1], color='C1', alpha=0.15)\n",
    "    #ax1.axvline(tau, color='r', ls='--')\n",
    "    plt.tick_params('x', labelbottom=False)\n",
    "    ax1.set(ylabel='Amplitude')\n",
    "\n",
    "    ax2 = fig.add_subplot(n_row, n_col, 7, sharex=ax0)\n",
    "    #ax2.axvline(tau, color='r', ls='--')\n",
    "    ax2.plot(t, sig[2], color='C2')\n",
    "    ax2.plot(t, sig0[2], color='C2', alpha=0.15)\n",
    "    ax2.set(xlabel='Zeit / s', ylabel='Amplitude')\n",
    "\n",
    "    ax3 = fig.add_subplot(n_row, n_col, 5, sharex=ax0)\n",
    "    ax3.plot(t, np.sum(sig, axis=0), color='k')\n",
    "    ax3.plot(t, np.sum(sig0, axis=0), color='k', alpha=0.15)\n",
    "    ax3.set(xlabel='Zeit / s', ylabel='Amplitude')\n",
    "     \n",
    "    ax4 = fig.add_subplot(n_row, n_col, 3)    \n",
    "    ax4.stem(f, -w * tau + phi, basefmt=' ')\n",
    "    #ax2.plot(t, sig0[2], color='C2', alpha=0.15)\n",
    "    ax4.set(xlabel='Frequenz / Hz', ylabel='Phase / rad',xlim=[0, np.max(f)+1], ylim=[-6*2*np.pi,1])\n"
   ]
  },
  {
   "cell_type": "code",
   "execution_count": 3,
   "id": "9211da19-ff52-4fa4-8204-aed164df66f0",
   "metadata": {
    "jupyter": {
     "source_hidden": true
    },
    "tags": []
   },
   "outputs": [
    {
     "data": {
      "application/vnd.jupyter.widget-view+json": {
       "model_id": "7bca2a009a8a43c4b117c8119aeb28b6",
       "version_major": 2,
       "version_minor": 0
      },
      "text/plain": [
       "HBox(children=(FloatSlider(value=0.0, description='$\\\\tau$:', max=1.0, step=0.05), FloatSlider(value=0.0, desc…"
      ]
     },
     "metadata": {},
     "output_type": "display_data"
    },
    {
     "data": {
      "application/vnd.jupyter.widget-view+json": {
       "model_id": "e3e52642dd2e493b94e4bb62da495bc7",
       "version_major": 2,
       "version_minor": 0
      },
      "text/plain": [
       "Output(layout=Layout(height='900px'))"
      ]
     },
     "metadata": {},
     "output_type": "display_data"
    }
   ],
   "source": [
    "# widgets\n",
    "w_tau = widgets.FloatSlider(min=0.0, max=1.0, step=0.05, value=0, continuous_update=True, description=r'$\\tau$:')\n",
    "w_phi = widgets.FloatSlider(min=-2*np.pi, max=0.0, step=0.05, value=0, continuous_update=True, description=r'$\\phi$:')\n",
    "\n",
    "ui = widgets.HBox([w_tau, w_phi])\n",
    "\n",
    "out = widgets.interactive_output(draw_signals, {'tau':w_tau, 'phi':w_phi})\n",
    "out.layout.height = '900px'\n",
    "\n",
    "display(ui, out)"
   ]
  }
 ],
 "metadata": {
  "kernelspec": {
   "display_name": "Python 3 (ipykernel)",
   "language": "python",
   "name": "python3"
  },
  "language_info": {
   "codemirror_mode": {
    "name": "ipython",
    "version": 3
   },
   "file_extension": ".py",
   "mimetype": "text/x-python",
   "name": "python",
   "nbconvert_exporter": "python",
   "pygments_lexer": "ipython3",
   "version": "3.11.4"
  }
 },
 "nbformat": 4,
 "nbformat_minor": 5
}
