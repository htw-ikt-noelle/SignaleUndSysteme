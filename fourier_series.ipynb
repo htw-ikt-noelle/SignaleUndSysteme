{
 "cells": [
  {
   "cell_type": "markdown",
   "metadata": {},
   "source": [
    "# Demonstration of a Fourier series representation of a symmectric rectangular pulse train"
   ]
  },
  {
   "cell_type": "markdown",
   "metadata": {},
   "source": [
    "This demo is supposed to visualize the [Fourier series](https://en.wikipedia.org/wiki/Fourier_series) representation of a periodic [rectangular pulse](https://en.wikipedia.org/wiki/Rectangular_function) train (or [square wave](https://en.wikipedia.org/wiki/Square_wave) ). \n",
    "\n",
    "This demo is written by [Markus Nölle](https://www.htw-berlin.de/hochschule/personen/person/?eid=9586) for a basic course on signals and systems hold at the [university of applied sciences, Berlin](https://www.htw-berlin.de/)."
   ]
  },
  {
   "cell_type": "markdown",
   "metadata": {},
   "source": [
    "## Import libararies"
   ]
  },
  {
   "cell_type": "code",
   "execution_count": 1,
   "metadata": {},
   "outputs": [],
   "source": [
    "import matplotlib.pyplot as plt\n",
    "import numpy as np\n",
    "import ipywidgets as widgets\n",
    "\n",
    "plt.style.use('noelle.mplstyle')"
   ]
  },
  {
   "cell_type": "markdown",
   "metadata": {},
   "source": [
    "## Formal definition of the Fourier series"
   ]
  },
  {
   "cell_type": "markdown",
   "metadata": {},
   "source": [
    "A [periodic](https://en.wikipedia.org/wiki/Periodic_function), continuous time signal can be represented by a [linear combination](https://en.wikipedia.org/wiki/Linear_combination) of an infinite number of [complex exponential signals](./exponential_signals.ipynb). This linear combination is formally given by\n",
    "\n",
    "$$x(t)=\\sum_{k=-\\infty}^{\\infty}X[k]\\cdot\\text{e}^{jk\\omega_0t},$$\n",
    "\n",
    "and it is called [Fourier series](https://en.wikipedia.org/wiki/Fourier_series). The complex coefficients $X[k]$ are called Fourier coefficients and they represent the amplitudes and phases of the individual involved exponential signals (or harmonic oscillations). "
   ]
  },
  {
   "cell_type": "markdown",
   "metadata": {},
   "source": [
    "## Example: Plot signal from lecture and the decompsition of this signal into harmonic oszillations\n",
    "\n",
    "The periodic signal known from the lecture is decomposed into its individual harmonics...\n",
    "interactive: number of harmonics for plotting can be specified..."
   ]
  },
  {
   "cell_type": "code",
   "execution_count": 2,
   "metadata": {
    "jupyter": {
     "source_hidden": true
    },
    "tags": []
   },
   "outputs": [
    {
     "data": {
      "text/plain": [
       "[<matplotlib.lines.Line2D at 0x1c410efcb20>]"
      ]
     },
     "execution_count": 2,
     "metadata": {},
     "output_type": "execute_result"
    },
    {
     "data": {
      "image/png": "[encoded data removed]",
      "text/plain": [
       "<Figure size 450x300 with 1 Axes>"
      ]
     },
     "metadata": {
      "needs_background": "light"
     },
     "output_type": "display_data"
    }
   ],
   "source": [
    "sr = 1e3\n",
    "t = np.linspace(0, 1-1/sr, int(sr))\n",
    "f = np.fft.fftshift(np.fft.fftfreq(np.size(t), 1/sr))\n",
    "w0 = 2 * np.pi\n",
    "\n",
    "x = ((np.sin(4*np.pi*1.5*t) + np.sin(2*np.pi*2.1*t + 1.5))* np.exp(-t))\n",
    "x = x - np.mean(x)\n",
    "\n",
    "X = np.fft.fft(x)\n",
    "\n",
    "nOszillations = 10\n",
    "oszillations = np.zeros((np.size(t),nOszillations))\n",
    "for oszillation in np.arange(nOszillations):\n",
    "    oszillations[:, oszillation] = np.real(np.abs(X[oszillation]) * np.exp(1j * oszillation * w0 * t + np.angle(X[oszillation])))\n",
    "    \n",
    "plt.plot(t, x)\n",
    "#plt.plot(t, oszillations, t, np.sum(oszillations, axis=-1))"
   ]
  },
  {
   "cell_type": "markdown",
   "metadata": {},
   "source": [
    "## Example: periodic rectangular time signal\n",
    "\n",
    "When considering only a linear combination of a finite number of ($N$) exponentials, the periodic time signal can only be approximated. A very intuitive domonsration of such an approximation is shown in this [Youtube video](https://www.youtube.com/watch?x-yt-ts=1421914688&v=LznjC4Lo7lE&x-yt-cl=84503534). This principle is also shown in the following interactive simulation: a periodic [rectangular funtion](https://en.wikipedia.org/wiki/Rectangular_function) with variable pulse ($T_0$) width and periodicity ($T$) is approximated by a variable number ($N$) of oscillations. Both, the original function as well as the approximation is plotted. Further, also the magnitudes (absolute values) of the involved Fourier coefficients, and therewith the magnitues of the oscillations are shown."
   ]
  },
  {
   "cell_type": "code",
   "execution_count": 3,
   "metadata": {
    "jupyter": {
     "source_hidden": true
    },
    "tags": []
   },
   "outputs": [
    {
     "data": {
      "application/vnd.jupyter.widget-view+json": {
       "model_id": "b50ac45bdb094ede97009fd374e057aa",
       "version_major": 2,
       "version_minor": 0
      },
      "text/plain": [
       "HBox(children=(FloatSlider(value=1.0, continuous_update=False, description='width $\\\\left(T_0\\\\right)$:', max=…"
      ]
     },
     "metadata": {},
     "output_type": "display_data"
    },
    {
     "data": {
      "application/vnd.jupyter.widget-view+json": {
       "model_id": "9413eada9c904cd682000365d2657249",
       "version_major": 2,
       "version_minor": 0
      },
      "text/plain": [
       "Output(layout=Layout(height='300px'))"
      ]
     },
     "metadata": {},
     "output_type": "display_data"
    }
   ],
   "source": [
    "def fSeries(T0=1, T=2, N=5):\n",
    "    \"\"\"Calc Fourier series coefficients of a periodic, symmetric rectangular pulse train\n",
    "    and plot them.\n",
    "    \n",
    "    N number of harminics to include\n",
    "    T0 width of the individual rect pulses\n",
    "    T period of rect pulse train\n",
    "    \"\"\"\n",
    "\n",
    "    duration = 5\n",
    "    dutyCycle = T0/T\n",
    "    f0 = 1/T\n",
    "    w0 = 2 * np.pi * f0\n",
    "\n",
    "    sr = 500\n",
    "    t = np.arange(0, duration, 1/sr)\n",
    "    \n",
    "    rect = np.zeros_like(t)\n",
    "    rect[np.mod(t, T) <= T0/2] = 1\n",
    "    rect[np.mod(t, T) >= T-T0/2] = 1\n",
    "\n",
    "    approx = 1j * np.zeros_like(rect)\n",
    "    freqs = np.arange(-N + 1, N)\n",
    "    X = 1j * np.zeros_like(freqs)\n",
    "    \n",
    "    for i, freq in enumerate(freqs):\n",
    "        X[i] = dutyCycle * np.sinc(freq * dutyCycle)\n",
    "        approx += X[i] * np.exp(1j * freq * w0 * t)        \n",
    "    \n",
    "    n_row = 1\n",
    "    n_col = 2\n",
    "    fig_size = [i*j for i,j in zip(plt.rcParams['figure.figsize'], [n_col, n_row])]\n",
    "    fig = plt.figure(figsize=fig_size)\n",
    "    \n",
    "    ax = fig.add_subplot(n_row, n_col, 1)\n",
    "    ax.plot(t, rect, t, np.real(approx))\n",
    "    ax.text(0.5, 1.2, 'duty cycle: %1.2f, N: %d' %(dutyCycle, N))\n",
    "    ax.set(xlabel='time / s', ylim=(-0.3, 1.3), ylabel='x(t)')    \n",
    "    \n",
    "    ax = fig.add_subplot(n_row, n_col, 2)\n",
    "    ax.stem(freqs, np.abs(X), use_line_collection=True)        \n",
    "    ax.set(xlabel='k', ylim=(0, np.max(np.abs(X)) * 1.1), ylabel='|X[k]|')\n",
    "    \n",
    "    plt.tight_layout()\n",
    "    plt.show()\n",
    "    \n",
    "style = {'description_width': '40%'}\n",
    "w_T0 = widgets.FloatSlider(min=0.1, max=2, step=0.1, value=1.0, continuous_update=False, description=r'width $\\left(T_0\\right)$:', style=style)\n",
    "w_T = widgets.FloatSlider(min=0.1, max=5, step=0.1, value=2.0, continuous_update=False, description=r'periodicity $\\left(T\\right)$:', style=style)\n",
    "w_N = widgets.IntSlider(min=1, max=99, step=1, value=5, continuous_update=False, description=r'no. oscillations $\\left(N\\right)$:', style=style)\n",
    "\n",
    "ui = widgets.HBox([w_T0, w_T, w_N])\n",
    "\n",
    "out = widgets.interactive_output(fSeries, {'T0':w_T0, 'T':w_T, 'N':w_N})\n",
    "out.layout.height = '300px'\n",
    "\n",
    "display(ui, out)"
   ]
  },
  {
   "cell_type": "code",
   "execution_count": null,
   "metadata": {},
   "outputs": [],
   "source": []
  }
 ],
 "metadata": {
  "kernelspec": {
   "display_name": "Python 3 (ipykernel)",
   "language": "python",
   "name": "python3"
  },
  "language_info": {
   "codemirror_mode": {
    "name": "ipython",
    "version": 3
   },
   "file_extension": ".py",
   "mimetype": "text/x-python",
   "name": "python",
   "nbconvert_exporter": "python",
   "pygments_lexer": "ipython3",
   "version": "3.10.2"
  }
 },
 "nbformat": 4,
 "nbformat_minor": 4
}
