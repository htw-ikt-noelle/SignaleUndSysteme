{
 "cells": [
  {
   "cell_type": "markdown",
   "metadata": {},
   "source": [
    "# Revision of complex numbers\n",
    "\n",
    "This demo is supposed to be a refresher on [complex numbers](https://en.wikipedia.org/wiki/Complex_number) and a visualization of the fundamental operations that can be done with them.\n",
    "\n",
    "This demo was written by [Markus Nölle](https://www.htw-berlin.de/hochschule/personen/person/?eid=9586) and Simon Schütze for a basic course on signals and systems held at the [university of applied siences, Berlin](https://www.htw-berlin.de/)."
   ]
  },
  {
   "cell_type": "markdown",
   "metadata": {},
   "source": [
    "---\n",
    "## Import libraries and set defaults"
   ]
  },
  {
   "cell_type": "code",
   "execution_count": 1,
   "metadata": {},
   "outputs": [],
   "source": [
    "import numpy as np\n",
    "import matplotlib.pyplot as plt\n",
    "from scipy import signal\n",
    "from ipywidgets import interact, interactive, fixed, interact_manual\n",
    "import ipywidgets as widgets\n",
    "from math import e\n",
    "import cmath\n",
    "import math\n",
    "\n",
    "plt.style.use('noelle.mplstyle')\n",
    "\n",
    "#inline, widget \n",
    "%matplotlib inline"
   ]
  },
  {
   "cell_type": "markdown",
   "metadata": {},
   "source": [
    "---\n",
    "## Complex numbers: Definition and Visualization\n",
    "\n",
    "Complex numbers can be displayed in [Cartesian](https://en.wikipedia.org/wiki/Cartesian_coordinate_system) or [Polar](https://en.wikipedia.org/wiki/Polar_coordinate_system) form. Both display modes are set in the [complex plane](https://en.wikipedia.org/wiki/Complex_plane), where the x-axis is represents the real part and the y-axis represents the imaginary part.\n",
    "\n",
    "#### Cartesian form:\n",
    "\n",
    "The complex number is split into a real part **a** and an imaginary part **b**, the latter of which is multiplied with the [*imaginary unit j*](https://en.wikipedia.org/wiki/Imaginary_unit) (or *i* in non-electrical contexts). **a** and **b** are the x- and y-coordinate of the complex number in the complex plane, respectively.\n",
    "\n",
    "$$\n",
    "\\begin{eqnarray}\n",
    "z &=& \\text{Re}\\{z\\} + j\\text{ Im}\\{z\\} \\\\\n",
    "  &=& a+jb \n",
    "\\end{eqnarray}\n",
    "$$\n",
    "\n",
    "#### Polar form:\n",
    "\n",
    "In the polar form, the complex number is thought of as a vector in the complex plane. The vector originates at (0,0) and has a length, called **magnitude**, as well as an angle relative to the x-axis, called **argument** or **phase**, which is represented by the Greek letter **$\\phi$** *(phi)*.\n",
    "\n",
    "$$\n",
    "\\begin{eqnarray}\n",
    "z &=& \\text{abs}(z) \\cdot \\text{e}^{j\\text{ arg}(z)} \\\\\n",
    "  &=& |z| \\cdot \\text{e}^{j\\phi}\n",
    "\\end{eqnarray}\n",
    "$$"
   ]
  },
  {
   "cell_type": "markdown",
   "metadata": {},
   "source": [
    "## Transforming from Cartesian to Polar:\n",
    "\n",
    "Moving back and forth between the two forms is important when doing calculations with complex numbers. When transforming from Cartesian to Polar form, it helps to visualize a complex number as a right-angled triangle, where the x- and y-coordinates of the number are the adjacent and opposite sides and the vector pointing at the number (in the complex plane) is the hypothenuse. \n",
    "With Pythagoras' theorem, we can calculate that the magnitude | z |, aka the length of the hypothenuse, is\n",
    "\n",
    "\n",
    "$$\n",
    "\\begin{eqnarray}\n",
    "|z| &=& \\sqrt{(\\text{Re}\\{z\\})^2+(\\text{Im}\\{z\\})^2}\n",
    "\\end{eqnarray}\n",
    "$$\n",
    "\n",
    "\n",
    "and the angle $\\phi$ (in radians, not degrees!) is\n",
    "\n",
    "\n",
    "$$\n",
    "\\begin{eqnarray}\n",
    "arg(z) &=& arctan(\\frac{\\text{Im}\\{z\\}}{\\text{Re}\\{z\\}})\n",
    "\\end{eqnarray}\n",
    "$$\n",
    "\n",
    "Visualization can be found [here](https://commons.wikimedia.org/wiki/File:Complex_conjugate_picture.svg#/media/File:Complex_conjugate_picture.svg).\n",
    "\n",
    "The cell below contains a function that performs this very operation. In addition, the phase is converted to degrees:"
   ]
  },
  {
   "cell_type": "code",
   "execution_count": 2,
   "metadata": {},
   "outputs": [
    {
     "data": {
      "application/vnd.jupyter.widget-view+json": {
       "model_id": "be142ab79e1344ef947683bae128c1ed",
       "version_major": 2,
       "version_minor": 0
      },
      "text/plain": [
       "interactive(children=(FloatSlider(value=1.0, continuous_update=False, description='real part', max=5.0, min=-5…"
      ]
     },
     "metadata": {},
     "output_type": "display_data"
    }
   ],
   "source": [
    "def convert_cart2pol(real_part, imaginary_part):\n",
    "    mag_z = np.sqrt(np.square(real_part)+np.square(imaginary_part))\n",
    "    arg_z_rad = np.arctan2(imaginary_part,real_part)\n",
    "    arg_z_deg = np.rad2deg(arg_z_rad)    \n",
    "        \n",
    "    print(\"|z|= {:.2f}\".format(mag_z))\n",
    "    print(\"phi= {:.2f}°\".format(arg_z_deg))\n",
    "    \n",
    "    return mag_z, arg_z_deg\n",
    "    \n",
    "real_part = widgets.FloatSlider(min=-5.,max=5.,step=0.5,value=1.0,continuous_update=False,description='real part')\n",
    "imaginary_part = widgets.FloatSlider(min=-5.,max=5.,step=0.5,value=1.0,continuous_update=False,description='imaginary part')\n",
    "\n",
    "widgets.interactive(convert_cart2pol, real_part=real_part, imaginary_part=imaginary_part)"
   ]
  },
  {
   "cell_type": "markdown",
   "metadata": {},
   "source": [
    "## Transforming from Polar to Cartesian:\n",
    "\n",
    "For the inverse transformation, we can, again, use trigonometric relations in a right-angled triangle to deduce Cartesian coordinates from a vector with known magnitude and angle. Keep in mind that, if the angle is given in degrees, it'll have to be converted into radians first to satisfy the format requirements of Python's trigonometric functions.\n",
    "\n",
    "$$\n",
    "\\begin{eqnarray}\n",
    "\\text{Re}\\{z\\} &=& |z| \\cdot cos(\\phi)\n",
    "\\end{eqnarray}\n",
    "$$\n",
    "\n",
    "\n",
    "and\n",
    "\n",
    "$$\n",
    "\\begin{eqnarray}\n",
    "\\text{Im}\\{z\\} &=& |z| \\cdot sin(\\phi)\n",
    "\\end{eqnarray}\n",
    "$$\n",
    "\n",
    "Again, the following cell contains a conversion function for this purpose:"
   ]
  },
  {
   "cell_type": "code",
   "execution_count": 3,
   "metadata": {},
   "outputs": [
    {
     "data": {
      "application/vnd.jupyter.widget-view+json": {
       "model_id": "815a74d014e2429a8c74827026101d3c",
       "version_major": 2,
       "version_minor": 0
      },
      "text/plain": [
       "interactive(children=(FloatSlider(value=0.0, continuous_update=False, description='magnitude', max=5.0), Float…"
      ]
     },
     "metadata": {},
     "output_type": "display_data"
    }
   ],
   "source": [
    "def convert_pol2cart(mag_z,arg_z_deg):\n",
    "    real_part = mag_z * np.cos(np.deg2rad(arg_z_deg))\n",
    "    imaginary_part = mag_z * np.sin(np.deg2rad(arg_z_deg))\n",
    "    \n",
    "    print(\"real part = {:.2f}\".format(real_part))\n",
    "    print(\"imaginary part = {:.2f}\".format(imaginary_part))\n",
    "    \n",
    "    return real_part, imaginary_part\n",
    "    \n",
    "mag_z = widgets.FloatSlider(min=0.,max=5.,step=0.1,value=0,continuous_update=False,description='magnitude')\n",
    "arg_z_deg = widgets.FloatSlider(min=0.,max=360.,step=1.,value=0,continuous_update=False,description='phi in °')\n",
    "\n",
    "widgets.interactive(convert_pol2cart, mag_z=mag_z, arg_z_deg=arg_z_deg)"
   ]
  },
  {
   "cell_type": "code",
   "execution_count": 21,
   "metadata": {},
   "outputs": [],
   "source": [
    "def plot_complex_numbers(z0_re, z0_im, z1_re, z1_im, mode='dynamic', operator='add'):\n",
    "    \n",
    "    z0 = complex(z0_re,z0_im)\n",
    "    z1 = complex(z1_re,z1_im)\n",
    "    \n",
    "    if operator=='add':\n",
    "        z2 = z0+z1\n",
    "    elif operator=='subtract':\n",
    "        z2 = z0-z1\n",
    "    elif operator=='multiply':\n",
    "        z2 = z0*z1\n",
    "    elif operator=='divide':\n",
    "        z2 = z0/z1\n",
    "    else:\n",
    "        raise TypeError('Not a valid operation')\n",
    "        \n",
    "    \n",
    "    n_row = 1\n",
    "    n_col = 3\n",
    "    fig_size = [i*j for i,j in zip(plt.rcParams['figure.figsize'], [n_col, n_row])]\n",
    "    fig = plt.figure(figsize=fig_size)\n",
    "    \n",
    "    if mode == 'dynamic':\n",
    "        x_lim = np.max(np.abs(np.asarray([z0,z1,z2]).real))*1.1\n",
    "        y_lim = np.max(np.abs(np.asarray([z0,z1,z2]).imag))*1.1\n",
    "    \n",
    "# avoid singular transformation by setting xlim/ylim to at least 1\n",
    "        if y_lim < 1:\n",
    "            y_lim = 1 \n",
    "        if x_lim < 1:\n",
    "            x_lim = 1\n",
    "    elif mode == 'static':\n",
    "        x_lim = 10\n",
    "        y_lim = 10\n",
    "    else:\n",
    "        raise TypeError('Not a valid display mode')\n",
    "    \n",
    "    ax = fig.add_subplot(n_row, n_col, 1)\n",
    "#     for idx, z in enumerate(c_numbers):\n",
    "    ar1 = ax.arrow(0,0,z0.real, z0.imag, width=0.025, length_includes_head=True, color='C2')\n",
    "    ar2 = ax.arrow(0,0,z1.real, z1.imag, width=0.025, length_includes_head=True, color='C0')\n",
    "    ar3 = ax.arrow(0,0,z2.real, z2.imag, width=0.025, length_includes_head=True, color='C3')\n",
    "    ax.set(xlabel='real part', ylabel='imaginary part', xlim=(-x_lim,x_lim), ylim=(-y_lim,y_lim))\n",
    "    plt.legend([ar1,ar2,ar3],['z0','z1','z2'],loc='best')\n",
    "    \n",
    "    for idx, z in enumerate([z0,z1,z2]):\n",
    "        print('z{:1d}: \\t real part:{:1.2f}, \\t imaginary part:{:1.2f}'.format(idx, z.real, z.imag))"
   ]
  },
  {
   "cell_type": "markdown",
   "metadata": {},
   "source": [
    "## Addition and Subtraction\n",
    "\n",
    "Addition and Subtraction of two complex numbers is easiest when they are both present in their Cartesian form. Real parts and imaginary parts of those two numbers are then added or subtracted from one another, respectively, to form the resulting complex number."
   ]
  },
  {
   "cell_type": "code",
   "execution_count": 37,
   "metadata": {},
   "outputs": [
    {
     "data": {
      "application/vnd.jupyter.widget-view+json": {
       "model_id": "cec3aff5043a46ab81b74ce71f7d8ade",
       "version_major": 2,
       "version_minor": 0
      },
      "text/plain": [
       "interactive(children=(FloatSlider(value=1.0, continuous_update=False, description='$\\t{Re}\\\\{z_0\\\\}$', max=5.0…"
      ]
     },
     "metadata": {},
     "output_type": "display_data"
    }
   ],
   "source": [
    "# addition and subtraction\n",
    "\n",
    "z0_re = widgets.FloatSlider(min=-5.,max=5.,step=0.5,value=1.0,continuous_update=False,description='$\\t{Re}\\{z_0\\}$')\n",
    "z0_im = widgets.FloatSlider(min=-5.,max=5.,step=0.5,value=0.0,continuous_update=False,description='$\\t{Im}\\{z_0\\}$')\n",
    "z1_re = widgets.FloatSlider(min=-5.,max=5.,step=0.5,value=0.0,continuous_update=False,description='$\\t{Re}\\{z_1\\}$')\n",
    "z1_im = widgets.FloatSlider(min=-5.,max=5.,step=0.5,value=1.0,continuous_update=False,description='$\\t{Im}\\{z_1\\}$')\n",
    "operator = widgets.Dropdown(options=['add','subtract'],value='add',description='operation',disabled=False)\n",
    "mode = widgets.Dropdown(options=['dynamic','static'],value='dynamic',description='display mode',disabled=False)\n",
    "\n",
    "out = widgets.interactive(plot_complex_numbers, z0_re=z0_re, z0_im=z0_im, z1_re=z1_re, z1_im=z1_im, operator=operator, mode=mode) \n",
    "out.layout.height = '550px'\n",
    "display(out)"
   ]
  },
  {
   "cell_type": "markdown",
   "metadata": {},
   "source": [
    "## Multiplication and Division\n",
    "\n",
    "For multiplication and division, the Polar form is more suitable than the Cartesian. Depending on the operation, the magnitudes of the two complex numbers are multiplied or divided, as you would with any purely real numbers. Since the phases $\\phi$ are both exponents with the same base **e**, they can simply be added or subtracted from eachother as follows:\n",
    "\n",
    "$$\n",
    "\\begin{eqnarray}\n",
    "e^{a} \\cdot e^{b} &=& e^{(a+b)} \n",
    "\\end{eqnarray}\n",
    "$$\n",
    "\n",
    "and\n",
    "\n",
    "$$\n",
    "\\begin{eqnarray}\n",
    "\\frac{e^{a}}{e^{b}} &=& e^{(a-b)}\n",
    "\\end{eqnarray}\n",
    "$$"
   ]
  },
  {
   "cell_type": "code",
   "execution_count": 17,
   "metadata": {},
   "outputs": [],
   "source": [
    "def plot_complex_numbers_polar(mag_z0, arg_z0_deg, mag_z1, arg_z1_deg, mode='dynamic', operator='multiply'):\n",
    "    \n",
    "    z0 = mag_z0 * cmath.exp((arg_z0_deg*(2*np.pi/360))*cmath.sqrt(-1))\n",
    "    z1 = mag_z1 * cmath.exp((arg_z1_deg*(2*np.pi/360))*cmath.sqrt(-1))\n",
    "    \n",
    "    if operator=='add':\n",
    "        z2 = z0+z1\n",
    "    elif operator=='subtract':\n",
    "        z2 = z0-z1\n",
    "    elif operator=='multiply':\n",
    "        z2 = z0*z1\n",
    "    elif operator=='divide':\n",
    "        z2 = z0/z1\n",
    "    else:\n",
    "        raise TypeError('Not a valid operation')\n",
    "        \n",
    "    \n",
    "    n_row = 1\n",
    "    n_col = 3\n",
    "    fig_size = [i*j for i,j in zip(plt.rcParams['figure.figsize'], [n_col, n_row])]\n",
    "    fig = plt.figure(figsize=fig_size)\n",
    "    \n",
    "    if mode == 'dynamic':\n",
    "        x_lim = np.max(np.abs(np.asarray([z0,z1,z2]).real))*1.1\n",
    "        y_lim = np.max(np.abs(np.asarray([z0,z1,z2]).imag))*1.1\n",
    "\n",
    "# avoid singular transformation by setting xlim/ylim to at least 1\n",
    "        if y_lim < 1:\n",
    "            y_lim = 1 \n",
    "        if x_lim < 1:\n",
    "            x_lim = 1\n",
    "    elif mode == 'static':\n",
    "        x_lim = 10\n",
    "        y_lim = 10\n",
    "    else:\n",
    "        raise TypeError('Not a valid display mode')\n",
    "        \n",
    "    ax = fig.add_subplot(n_row, n_col, 1)\n",
    "#     for idx, z in enumerate(c_numbers):\n",
    "    ar1 = ax.arrow(0,0,z0.real, z0.imag, width=0.025, length_includes_head=True, color='C2')\n",
    "    ar2 = ax.arrow(0,0,z1.real, z1.imag, width=0.025, length_includes_head=True, color='C0')\n",
    "    ar3 = ax.arrow(0,0,z2.real, z2.imag, width=0.025, length_includes_head=True, color='C3')\n",
    "    ax.set(xlabel='real part', ylabel='imaginary part', xlim=(-x_lim,x_lim), ylim=(-y_lim,y_lim))\n",
    "    plt.legend([ar1,ar2,ar3],['z0','z1','z2'],loc='best')\n",
    "    \n",
    "    for idx, z in enumerate([z0,z1,z2]):\n",
    "        #print('z{:1d}: \\t real part:{:1.2f}, \\t imaginary part:{:1.2f}, \\t absolute value:{:1.2f}, \\t angle [rad]/[degree]:{:1.2f}/{:1.2f},'.format(idx, z.real, z.imag, np.abs(z), np.angle(z), np.angle(z)/np.pi*180))\n",
    "        print('z{:1d}: \\t magnitude:{:1.2f}, \\t argument [rad]/[degree]:{:1.2f}/{:1.2f},'.format(idx, np.abs(z), np.angle(z), np.angle(z)/np.pi*180))\n",
    "\n",
    "#     ax.axis('equal')"
   ]
  },
  {
   "cell_type": "code",
   "execution_count": 39,
   "metadata": {},
   "outputs": [
    {
     "data": {
      "application/vnd.jupyter.widget-view+json": {
       "model_id": "afc57768780443c49117b53b042da5c8",
       "version_major": 2,
       "version_minor": 0
      },
      "text/plain": [
       "interactive(children=(FloatSlider(value=1.5, continuous_update=False, description='$\\t | z_0 |$', max=3.0), Fl…"
      ]
     },
     "metadata": {},
     "output_type": "display_data"
    }
   ],
   "source": [
    "# multiplication and division\n",
    "\n",
    "mag_z0 = widgets.FloatSlider(min=0.0,max=3.,step=0.1,value=1.5,continuous_update=False,description='$\\t | z_0 |$')\n",
    "arg_z0_deg = widgets.FloatSlider(min=-180.,max=180.,step=1.,value=90.0,continuous_update=False,description='$ arg(z_0)$')\n",
    "mag_z1 = widgets.FloatSlider(min=0.0,max=3.,step=0.1,value=1.5,continuous_update=False,description='$\\t | z1 |$')\n",
    "arg_z1_deg = widgets.FloatSlider(min=-180.,max=180.,step=1.,value=0.0,continuous_update=False,description='$ arg(z_1)$')\n",
    "operator = widgets.Dropdown(options=['multiply','divide'],value='multiply',description='operation',disabled=False)\n",
    "mode = widgets.Dropdown(options=['dynamic','static'],value='dynamic',description='display mode',disabled=False)\n",
    "\n",
    "out = widgets.interactive(plot_complex_numbers_polar, mag_z0=mag_z0, arg_z0_deg=arg_z0_deg, mag_z1=mag_z1, arg_z1_deg=arg_z1_deg, mode=mode, operator=operator)\n",
    "out.layout.height = '550px'\n",
    "display(out)"
   ]
  },
  {
   "cell_type": "markdown",
   "metadata": {},
   "source": [
    "### Additional Resources\n",
    "With this, you should have a solid understanding of how to perform basic operations with complex numbers and how to visualize them. The following are some resources for further expanding your understanding of their significance in all kinds of technical applications.\n",
    "If you are an audiovisually receptive learner, this low-threshold video lecture by 3Blue1Brown is a good starting point:"
   ]
  },
  {
   "cell_type": "code",
   "execution_count": 8,
   "metadata": {},
   "outputs": [
    {
     "data": {
      "text/html": [
       "<iframe width=\"560\" height=\"315\" src=\"https://www.youtube.com/embed/5PcpBw5Hbwo\" frameborder=\"0\" allow=\"accelerometer; autoplay; encrypted-media; gyroscope; picture-in-picture\" allowfullscreen></iframe>\n"
      ],
      "text/plain": [
       "<IPython.core.display.HTML object>"
      ]
     },
     "metadata": {},
     "output_type": "display_data"
    }
   ],
   "source": [
    "%%HTML\n",
    "<iframe width=\"560\" height=\"315\" src=\"https://www.youtube.com/embed/5PcpBw5Hbwo\" frameborder=\"0\" allow=\"accelerometer; autoplay; encrypted-media; gyroscope; picture-in-picture\" allowfullscreen></iframe>"
   ]
  },
  {
   "cell_type": "markdown",
   "metadata": {},
   "source": []
  },
  {
   "cell_type": "code",
   "execution_count": null,
   "metadata": {},
   "outputs": [],
   "source": []
  }
 ],
 "metadata": {
  "kernelspec": {
   "display_name": "Python 3",
   "language": "python",
   "name": "python3"
  },
  "language_info": {
   "codemirror_mode": {
    "name": "ipython",
    "version": 3
   },
   "file_extension": ".py",
   "mimetype": "text/x-python",
   "name": "python",
   "nbconvert_exporter": "python",
   "pygments_lexer": "ipython3",
   "version": "3.7.4"
  }
 },
 "nbformat": 4,
 "nbformat_minor": 4
}
