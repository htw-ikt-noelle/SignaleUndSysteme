{
 "cells": [
  {
   "cell_type": "markdown",
   "metadata": {},
   "source": [
    "NOT WORKNG WITH BINDER YET!"
   ]
  },
  {
   "cell_type": "markdown",
   "metadata": {},
   "source": [
    "**import libraries**"
   ]
  },
  {
   "cell_type": "code",
   "execution_count": 1,
   "metadata": {},
   "outputs": [],
   "source": [
    "# notebook or inline or qt\n",
    "%matplotlib qt\n",
    "import numpy as np\n",
    "import matplotlib as mpl\n",
    "import matplotlib.pyplot as plt\n",
    "from scipy import signal\n",
    "from matplotlib import animation\n",
    "\n",
    "# from IPython.display import HTML"
   ]
  },
  {
   "cell_type": "markdown",
   "metadata": {},
   "source": [
    "---\n",
    "**generate signals**"
   ]
  },
  {
   "cell_type": "code",
   "execution_count": 2,
   "metadata": {},
   "outputs": [],
   "source": [
    "sr = 100 # sample rate\n",
    "\n",
    "t = np.arange(-5, 5, 1 / sr) # has to be symmetric around zero\n",
    "f = np.fft.fftshift(np.fft.fftfreq(t.size, 1 / sr))\n",
    "\n",
    "# generate first signal (rect)\n",
    "data1 = np.zeros(t.size)\n",
    "data1[(t>=0) & (t<=1)] = 1\n",
    "\n",
    "# generate second signal\n",
    "# # decaying exponential\n",
    "# alpha = 3\n",
    "# data2 = np.exp(-alpha * t)\n",
    "# data2[t<0]=0\n",
    "\n",
    "T = 1/1\n",
    "T0 = 0.\n",
    "# rect\n",
    "data2 = np.zeros(t.size)\n",
    "data2[(t>=(0+T0)) & (t<=(T+T0))] = 1.0\n",
    "\n",
    "# plot both signals (figure 1)\n",
    "fig, ax = plt.subplots(1,2, figsize=(2*4, 4), num=1)\n",
    "ax[0].cla()\n",
    "ax[0].plot(t, data1)\n",
    "ax[0].set(ylabel='amplitude / a.u.', xlabel='time / s')\n",
    "ax[0].grid(True) \n",
    "\n",
    "ax[1].cla()\n",
    "ax[1].plot(t, data2)\n",
    "ax[1].set(ylabel='amplitude / a.u.', xlabel='time / s')\n",
    "# ax[1].set_ylim((0, 1))\n",
    "ax[1].grid(True) \n",
    "\n",
    "plt.show()"
   ]
  },
  {
   "cell_type": "markdown",
   "metadata": {},
   "source": [
    "---\n",
    "**plot swapped and enlarged signals**"
   ]
  },
  {
   "cell_type": "code",
   "execution_count": 3,
   "metadata": {},
   "outputs": [],
   "source": [
    "# swap second signal (flip around t=0)\n",
    "data2 = data2[::-1]\n",
    "\n",
    "# plot both signals (figure 2)\n",
    "fig, ax = plt.subplots(1,2, figsize=(2*4, 4), num=2)\n",
    "ax[0].cla()\n",
    "ax[0].plot(t, data1)\n",
    "ax[0].set(ylabel='amplitude / a.u.', xlabel='time / s')\n",
    "ax[0].grid(True) \n",
    "\n",
    "ax[1].cla()\n",
    "l, = ax[1].plot(t, data2)\n",
    "ax[1].set(ylabel='amplitude / a.u.', xlabel='time / s')\n",
    "l.set_color([1, 0.5, 0])\n",
    "ax[1].grid(True) \n",
    "\n",
    "plt.show()"
   ]
  },
  {
   "cell_type": "markdown",
   "metadata": {},
   "source": [
    "---\n",
    "**visualize convolution operation**\n",
    "\n",
    "$y(\\tau)=a(t)\\ast b(t)=\\int_{-\\infty}^{\\infty}a(t)\\cdot b(\\tau -t)dt$"
   ]
  },
  {
   "cell_type": "code",
   "execution_count": 4,
   "metadata": {},
   "outputs": [],
   "source": [
    "# generate shift vector tau\n",
    "dtau = 1./(sr)\n",
    "tauMinMax = [-2, 2]; #[-0.5, 3]\n",
    "tau = np.arange(tauMinMax[0], tauMinMax[1], dtau)\n",
    "\n",
    "# prepare plots\n",
    "fig, ax = plt.subplots(1,3, figsize=(3*5, 4), num=3)\n",
    "\n",
    "line00, line01 = ax[0].plot([], [], [], [])\n",
    "line01.set_color([1, 0.5, 0])\n",
    "poly0 = ax[0].fill_between([], [], animated=True, color=[0, 0.8, 0.5], alpha=0.7)\n",
    "ax[0].set(ylabel='amplitude / a.u.', xlabel='time / s')\n",
    "ax[0].set_xlim(np.min(t), np.max(t))\n",
    "ax[0].set_ylim(0, 1.1)  \n",
    "ax[0].grid(True)  \n",
    "\n",
    "line10, = ax[1].plot([], [])\n",
    "poly1 = ax[1].fill_between([], [], animated=True, color=[0, 0.8, 0.5], alpha=0.7)\n",
    "ax[1].set(ylabel='amplitude / a.u.', xlabel='time / s')\n",
    "ax[1].set_xlim(np.min(t), np.max(t))\n",
    "ax[1].set_ylim(0, 1.1) \n",
    "line10.set_color([0, 0, 0])\n",
    "ax[1].grid(True) \n",
    "\n",
    "line20, = ax[2].plot([], [])\n",
    "line21, = ax[2].plot([], [])\n",
    "line20.set_color([0, 0.8, 0.5])\n",
    "line21.set_color([1, 0, 0])\n",
    "line21.set_marker('o')\n",
    "ax[2].set(ylabel='amplitude / a.u.', xlabel='shift  / s')\n",
    "ax[2].set_xlim(np.min(tau), np.max(tau))\n",
    "# ax[2].set_ylim(0, (np.exp(-alpha*1)+1)/alpha * 1.1) \n",
    "ax[2].set_ylim(0, 1*T*1.1) \n",
    "ax[2].grid(True) \n",
    "\n",
    "plt.subplots_adjust(wspace=0.5)\n",
    "\n",
    "# function to animate the convolution \n",
    "integral = np.zeros_like(tau)\n",
    "def update(i):  \n",
    "            \n",
    "    line00.set_data(t, data1)\n",
    "    line01.set_data(t, np.roll(data2, int(tau[i]*sr)))\n",
    "        \n",
    "    fOverlap = data1 * np.roll(data2, int(tau[i]*sr))\n",
    "    poly0.set_verts((np.c_[t, fOverlap],))\n",
    "    poly1.set_verts((np.c_[t, fOverlap],))\n",
    "    line10.set_data(t, fOverlap)  \n",
    "    \n",
    "#     section = np.arange(, 1, 1/20.)\n",
    "#     plt.fill_between(section,f(section))\n",
    "\n",
    "    integral[i] = sum(data1 * np.roll(data2, int(tau[i]*sr))) / sr\n",
    "    line20.set_data(tau, integral)\n",
    "    line21.set_data(tau[i], integral[i])\n",
    "    \n",
    "    return poly0, poly1, line00, line01, line10, line20, line21\n",
    "\n",
    "ani = animation.FuncAnimation(fig, update, frames=tau.size, interval=20, blit=True)\n",
    "# ani.save('convolutionDemoExp.mp4', fps=30, extra_args=['-vcodec', 'libx264'])\n",
    "\n",
    "# HTML(ani.to_jshtml())\n",
    "# HTML(ani.to_html5_video())\n",
    "plt.show()"
   ]
  },
  {
   "cell_type": "code",
   "execution_count": null,
   "metadata": {},
   "outputs": [],
   "source": []
  },
  {
   "cell_type": "code",
   "execution_count": null,
   "metadata": {},
   "outputs": [],
   "source": []
  },
  {
   "cell_type": "code",
   "execution_count": null,
   "metadata": {},
   "outputs": [],
   "source": []
  }
 ],
 "metadata": {
  "kernelspec": {
   "display_name": "Python 3",
   "language": "python",
   "name": "python3"
  },
  "language_info": {
   "codemirror_mode": {
    "name": "ipython",
    "version": 3
   },
   "file_extension": ".py",
   "mimetype": "text/x-python",
   "name": "python",
   "nbconvert_exporter": "python",
   "pygments_lexer": "ipython3",
   "version": "3.7.4"
  }
 },
 "nbformat": 4,
 "nbformat_minor": 2
}
