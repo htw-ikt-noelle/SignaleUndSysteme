{
 "cells": [
  {
   "cell_type": "markdown",
   "metadata": {},
   "source": [
    "# Demonstation of an application of the Fast-Fourier-Transform\n",
    "\n",
    "This demo shows an examplary application of the [Fast-Fourier-Transform (FFT)](https://en.wikipedia.org/wiki/Fast_Fourier_transform), which is an efficient way to implement the [Discrete Fourier Transform (DFT)](https://en.wikipedia.org/wiki/Discrete_Fourier_transform). \n",
    "\n",
    "This demo is written by [Markus Nölle](https://www.htw-berlin.de/hochschule/personen/person/?eid=9586) for a basic course on signals and systems hold at the [university of applied sciences, Berlin](https://www.htw-berlin.de/)."
   ]
  },
  {
   "cell_type": "markdown",
   "metadata": {},
   "source": [
    "**Import libraries**"
   ]
  },
  {
   "cell_type": "code",
   "execution_count": 1,
   "metadata": {},
   "outputs": [],
   "source": [
    "import numpy as np\n",
    "import matplotlib.pyplot as plt\n",
    "from scipy import signal\n",
    "import ipywidgets as widgets\n",
    "\n",
    "plt.style.use('noelle.mplstyle')"
   ]
  },
  {
   "cell_type": "markdown",
   "metadata": {},
   "source": [
    "**Why FFT???**\n",
    "\n",
    "??? Some interesting effects to investigate:\n",
    "\n",
    "* detect (also weak) frequencies\n",
    "* logarithmic scaling of spectrum (for low 2nd amplitude)\n",
    "* non-integer oscillations in observation period --> non periodic time signal (scalloping loss)\n",
    "* windowing in time domain with different window functions ([spectral leakage](https://en.wikipedia.org/wiki/Spectral_leakage))\n",
    "\n",
    "..."
   ]
  },
  {
   "cell_type": "markdown",
   "metadata": {},
   "source": [
    "**Actual visualization**"
   ]
  },
  {
   "cell_type": "code",
   "execution_count": 2,
   "metadata": {},
   "outputs": [
    {
     "data": {
      "application/vnd.jupyter.widget-view+json": {
       "model_id": "6f0bc8c9e20b4509bfe9ce31e7266621",
       "version_major": 2,
       "version_minor": 0
      },
      "text/plain": [
       "VBox(children=(HBox(children=(FloatSlider(value=2.0, continuous_update=False, description='Freq. 1:', max=10.0…"
      ]
     },
     "metadata": {},
     "output_type": "display_data"
    },
    {
     "data": {
      "application/vnd.jupyter.widget-view+json": {
       "model_id": "c78e132dc9d24fe5a22075d0b438b66e",
       "version_major": 2,
       "version_minor": 0
      },
      "text/plain": [
       "Output(layout=Layout(height='350px'))"
      ]
     },
     "metadata": {},
     "output_type": "display_data"
    }
   ],
   "source": [
    "\n",
    "def plot_signals(f1=2.0, f2=40.0, a2=0.1, scale='lin', window='Rectangular'):\n",
    "\n",
    "    # sample rate\n",
    "    sr = 1000\n",
    "    # duration of the signal\n",
    "    dur = 1\n",
    "    # time and frequency axis\n",
    "    t = np.arange(0, dur, 1 / sr)\n",
    "    f = np.fft.fftshift(np.fft.fftfreq(t.size, 1 / sr))\n",
    "\n",
    "    # generate signals\n",
    "    sig1 = np.cos(f1 * 2 * np.pi * t + np.pi/10)\n",
    "    sig2 = a2 * np.cos(f2 * 2 * np.pi * t)\n",
    "    sig = sig1 + sig2\n",
    "\n",
    "    # windowing?\n",
    "    if window == 'Rectangular':\n",
    "        w = signal.windows.boxcar(sig.size)\n",
    "        sig *= w\n",
    "    elif window == 'Hanning':\n",
    "        w = signal.windows.hann(sig.size)\n",
    "        sig *= w\n",
    "    elif window == 'Blackman-Harris':\n",
    "        w = signal.windows.blackmanharris(sig.size)\n",
    "        sig *= w\n",
    "\n",
    "    # amplitude spectrum\n",
    "    Sig = np.abs(np.fft.fftshift(np.fft.fft(sig)) / sig.size)\n",
    "\n",
    "    # lin / log scaling of spectrum\n",
    "    if scale == 'log':\n",
    "        np.seterr(divide = 'ignore')\n",
    "        Sig = 20 * np.log10(Sig)\n",
    "        ylabel = r'amplitude / 1V in dB'\n",
    "        ylim = (-150, 0)\n",
    "    else:\n",
    "        ylabel = 'amplitude'\n",
    "        ylim = (0, 0.6)\n",
    "\n",
    "    # ploting stuff\n",
    "    n_row = 1\n",
    "    n_col = 2\n",
    "    fig_size = [i*j for i,j in zip(plt.rcParams['figure.figsize'], [n_col, n_row])]\n",
    "    fig = plt.figure(figsize=fig_size)\n",
    "\n",
    "    ax = fig.add_subplot(n_row, n_col, 1)\n",
    "    ax.plot(t, sig)\n",
    "    ax.plot(t, w, color=(0.5,0.5,0.5), ls='dotted')\n",
    "    ax.set(xlabel='time / s', ylabel='amplitude', xlim=(0, dur))\n",
    "\n",
    "    ax = fig.add_subplot(n_row, n_col, 2)\n",
    "    ax.plot(f, Sig)\n",
    "    ax.set(xlabel='frequency / Hz', ylabel=ylabel, xlim=(-100, 100), ylim=ylim)\n",
    "\n",
    "    plt.tight_layout()\n",
    "    plt.show()\n",
    "\n",
    "# sliders\n",
    "style = {'description_width': '20%'}\n",
    "w_scale = widgets.RadioButtons(options=['lin', 'log'], value='lin', description='Scale:', disabled=False)\n",
    "w_f1 = widgets.FloatSlider(min=0.5, max=10.0, step=0.5, value=2.0, continuous_update=False, description=r'Freq. 1:', style=style)\n",
    "w_f2 = widgets.IntSlider(min=10, max=100, step=1, value=40, continuous_update=False, description=r'Freq. 2:', style=style)\n",
    "w_a2 = widgets.Dropdown(options=[('1',1.0), ('1/10',0.1), ('1/100',0.01), ('1/1000',0.001), ('1/10000',0.0001)], value=1.0, description='Amp. 2:', disabled=False, style=style)\n",
    "w_window = widgets.Dropdown(options=['Rectangular', 'Hanning', 'Blackman-Harris'], value='Rectangular', description='Window:', disabled=False, style=style)\n",
    "\n",
    "ui_u = widgets.HBox([w_f1, w_f2, w_a2])\n",
    "ui_l = widgets.HBox([w_scale, w_window])\n",
    "ui = widgets.VBox([ui_u, ui_l])\n",
    "\n",
    "out = widgets.interactive_output(plot_signals, {'scale':w_scale, 'f1':w_f1, 'f2':w_f2, 'a2':w_a2, 'window':w_window})\n",
    "out.layout.height = '350px'\n",
    "\n",
    "display(ui, out)"
   ]
  }
 ],
 "metadata": {
  "kernelspec": {
   "display_name": "Python 3",
   "language": "python",
   "name": "python3"
  },
  "language_info": {
   "codemirror_mode": {
    "name": "ipython",
    "version": 3
   },
   "file_extension": ".py",
   "mimetype": "text/x-python",
   "name": "python",
   "nbconvert_exporter": "python",
   "pygments_lexer": "ipython3",
   "version": "3.7.6"
  }
 },
 "nbformat": 4,
 "nbformat_minor": 4
}
