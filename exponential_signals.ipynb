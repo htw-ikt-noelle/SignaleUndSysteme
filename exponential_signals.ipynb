{
 "cells": [
  {
   "cell_type": "markdown",
   "metadata": {},
   "source": [
    "# Visualization of continuous and discrete exponential signals"
   ]
  },
  {
   "cell_type": "markdown",
   "metadata": {},
   "source": [
    "This demo is supposed to visualize both, continuous time and discrete time [exponential signals](https://en.wikipedia.org/wiki/Exponential_function) . \n",
    "\n",
    "This demo is written by [Markus Nölle](https://www.htw-berlin.de/hochschule/personen/person/?eid=9586) for a basic course on signals and systems hold at the [university of applied siences, Berlin](https://www.htw-berlin.de/)."
   ]
  },
  {
   "cell_type": "markdown",
   "metadata": {},
   "source": [
    "## Import libraries and set defaults"
   ]
  },
  {
   "cell_type": "code",
   "execution_count": 1,
   "metadata": {},
   "outputs": [],
   "source": [
    "import numpy as np\n",
    "import matplotlib.pyplot as plt\n",
    "from scipy import signal\n",
    "import ipywidgets as widgets\n",
    "\n",
    "plt.style.use('noelle.mplstyle')\n",
    "\n",
    "#inline, widget \n",
    "%matplotlib inline"
   ]
  },
  {
   "cell_type": "markdown",
   "metadata": {},
   "source": [
    "---"
   ]
  },
  {
   "cell_type": "markdown",
   "metadata": {},
   "source": [
    "## Continuous time exponential signals"
   ]
  },
  {
   "cell_type": "markdown",
   "metadata": {},
   "source": [
    "Continuous time exponential signals of the form \n",
    "\n",
    "$$x(t) = C \\cdot \\text{e}^{at} $$\n",
    "\n",
    "can be visualized in this part of the notebook. Here, $C$ and $a$ can be [complex numbers](https://en.wikipedia.org/wiki/Complex_number). When defining $C=|C|\\cdot\\text{e}^{j\\phi}$ and $a=r+j\\omega_0$, the exponential signal can be written as\n",
    "\n",
    "$$x(t) = |C| \\cdot \\text{e}^{j\\phi} \\cdot \\text{e}^{rt} \\cdot \\text{e}^{j\\omega_0 t}.$$\n",
    "\n",
    "It can be seen, that the [absolute value](https://en.wikipedia.org/wiki/Absolute_value) ($|C|$) and the [argument](https://en.wikipedia.org/wiki/Complex_number#Modulus_and_argument) ($\\phi$) of $C$ are influencing the constant (or start) value, while the [real and imaginary parts](https://en.wikipedia.org/wiki/Complex_number#Cartesian_complex_plane) ($r$ and $\\omega_0$) of $a$ define the time-variant behaviour of the exponential signal, respectively. \n",
    "\n",
    "These individual values can be varied by sliders while the real and imaginary part and also the amplitude and phase of the resulting signal is visualized. Further, the resulting signal is also depicted in the [complex plane](https://en.wikipedia.org/wiki/Complex_plane)."
   ]
  },
  {
   "cell_type": "code",
   "execution_count": 2,
   "metadata": {
    "jupyter": {
     "source_hidden": true
    }
   },
   "outputs": [
    {
     "data": {
      "application/vnd.jupyter.widget-view+json": {
       "model_id": "aa4269133ad84b09b914a6eb0b0f7c92",
       "version_major": 2,
       "version_minor": 0
      },
      "text/plain": [
       "HBox(children=(VBox(children=(Label(value='Parameter C'), FloatSlider(value=1.0, continuous_update=False, desc…"
      ]
     },
     "metadata": {},
     "output_type": "display_data"
    },
    {
     "data": {
      "application/vnd.jupyter.widget-view+json": {
       "model_id": "88601b0a2f5d42ad835740c19cfef3ab",
       "version_major": 2,
       "version_minor": 0
      },
      "text/plain": [
       "Output(layout=Layout(height='600px'))"
      ]
     },
     "metadata": {},
     "output_type": "display_data"
    }
   ],
   "source": [
    "def plot_exp_cont_sig(C_abs = 1.0, phi = 0.0, r = -1.5, omega0 = 0*4*np.pi):\n",
    "\n",
    "    sr_cont = 1e3\n",
    "    t_cont = np.arange(0, 1-(1/sr_cont), 1/sr_cont)\n",
    "\n",
    "    C = C_abs * np.exp(1j * phi)\n",
    "    a = np.complex(r, omega0)\n",
    "\n",
    "    y_cont = C * np.exp(a * t_cont)\n",
    "\n",
    "    n_row = 2\n",
    "    n_col = 3\n",
    "    fig_size = [i*j for i,j in zip(plt.rcParams['figure.figsize'], [n_col, n_row])]\n",
    "    fig = plt.figure(figsize=fig_size)\n",
    "\n",
    "    ax = fig.add_subplot(2, 3, 1)\n",
    "    ax.plot(t_cont, np.abs(y_cont), ls='--', color=(0.8,0.8,0.8))\n",
    "    ax.plot(t_cont, -np.abs(y_cont), ls='--', color=(0.8,0.8,0.8))\n",
    "    ax.plot(t_cont, y_cont.real, 'g')\n",
    "    ax.set(xlabel='time / s', ylabel='real(x(t))')\n",
    "\n",
    "    ax = fig.add_subplot(2, 3, 2)\n",
    "    ax.plot(t_cont, np.abs(y_cont), ls='--', color=(0.8,0.8,0.8))\n",
    "    ax.plot(t_cont, -np.abs(y_cont), ls='--', color=(0.8,0.8,0.8))\n",
    "    ax.plot(t_cont, y_cont.imag, color='orange')\n",
    "    ax.set(xlabel='time / s', ylabel='imag(x(t))')    \n",
    "\n",
    "    ax = fig.add_subplot(2, 3, 4)\n",
    "    ax.plot(t_cont, np.abs(y_cont))\n",
    "    ax.set(xlabel='time / s', ylabel='abs(x(t))')\n",
    "\n",
    "    ax = fig.add_subplot(2, 3, 5)\n",
    "    ax.plot(t_cont, np.angle(y_cont), color='r')\n",
    "    ax.set(xlabel='time / s', ylabel='angle(x(t))')    \n",
    "    plt.tight_layout()\n",
    "    \n",
    "    ax = fig.add_subplot(1, 3, 3)\n",
    "    ax.plot(y_cont.real, y_cont.imag, color='k');\n",
    "    absMax = 1.1* np.max(np.abs(y_cont))\n",
    "    plt.axis('square')\n",
    "    ax.set(xlabel='real(x(t))', ylabel='imag(x(t))', ylim=(-absMax, absMax), xlim=(-absMax, absMax))  \n",
    "    \n",
    "    plt.show();\n",
    "\n",
    "\n",
    "style = {'description_width': '30%'}\n",
    "w_C_abs = widgets.FloatSlider(min=0, max=10, step=0.1, value=1.0, continuous_update=False, description=r'$|C|:$', style=style)\n",
    "w_phi = widgets.FloatSlider(min=-3.2, max=3.2, step=0.1, value=0.0, continuous_update=False, description=r'$\\phi:$', style=style)\n",
    "w_r = widgets.FloatSlider(min=-10, max=10, step=0.1, value=-1.0, continuous_update=False, description='r:', style=style)\n",
    "w_omega0 = widgets.FloatSlider(min=-30, max=30, step=0.1, value=0*2*np.pi, continuous_update=False, description=r'$\\omega_0:$', style=style)\n",
    "\n",
    "left_col = widgets.VBox([widgets.Label('Parameter C'), w_C_abs, w_phi])\n",
    "mid_col = widgets.VBox([widgets.Label('Parameter a'), w_r, w_omega0])\n",
    "right_col = widgets.VBox([widgets.Label(r'$x(t) = |C| \\cdot \\text{e}^{j\\phi} \\cdot \\text{e}^{rt} \\cdot \\text{e}^{j\\omega_0 t}$')])\n",
    "ui = widgets.HBox([left_col, mid_col, right_col])\n",
    "\n",
    "out = widgets.interactive_output(plot_exp_cont_sig, {'C_abs':w_C_abs, 'phi':w_phi, 'r':w_r, 'omega0':w_omega0})\n",
    "out.layout.height = '600px'\n",
    "\n",
    "display(ui, out)"
   ]
  },
  {
   "cell_type": "markdown",
   "metadata": {},
   "source": [
    "---"
   ]
  },
  {
   "cell_type": "markdown",
   "metadata": {},
   "source": [
    "## Discrete time exponential signals"
   ]
  },
  {
   "cell_type": "markdown",
   "metadata": {},
   "source": [
    "Discrete time exponential signals of the form \n",
    "\n",
    "$$x[n] = C \\cdot \\alpha^{n} $$\n",
    "\n",
    "can be visualized in this part of the notebook. Here, $C$ and $\\alpha$ can be [complex numbers](https://en.wikipedia.org/wiki/Complex_number). When defining $C=|C|\\cdot\\text{e}^{j\\phi}$ and $\\alpha=|\\alpha|\\cdot\\text{e}^{j\\omega_0}$, the exponential signal can be written as\n",
    "\n",
    "\\begin{eqnarray}\n",
    "x[n] &=& |C| \\cdot \\text{e}^{j\\phi} \\cdot (|\\alpha|\\cdot \\text{e}^{j\\omega_0})^n \\\\\n",
    "&=& |C| \\cdot \\text{e}^{j\\phi}  \\cdot |\\alpha|^n \\cdot \\text{e}^{j\\omega_0 n}.\\\\\n",
    "\\end{eqnarray}\n",
    "\n",
    "Similar as in the continuous time case, the [absolute value](https://en.wikipedia.org/wiki/Absolute_value) ($|C|$) and the [argument](https://en.wikipedia.org/wiki/Complex_number#Modulus_and_argument) ($\\phi$) of $C$ are influencing the constant (or start) value, while the components of $\\alpha$ ($r$ and $\\omega_0$) define the time-variant behaviour of the exponential signal, respectively. \n",
    "\n",
    "These individual values can be varied by sliders while the real and imaginary part and also the amplitude and phase of the resulting discrete signal is visualized. Further, the resulting signal is also depicted in the [complex plane](https://en.wikipedia.org/wiki/Complex_plane)."
   ]
  },
  {
   "cell_type": "code",
   "execution_count": 3,
   "metadata": {
    "jupyter": {
     "source_hidden": true
    }
   },
   "outputs": [
    {
     "data": {
      "application/vnd.jupyter.widget-view+json": {
       "model_id": "d5b77aafc24343a7aa1562e95d470c0e",
       "version_major": 2,
       "version_minor": 0
      },
      "text/plain": [
       "HBox(children=(VBox(children=(Label(value='Parameter C'), FloatSlider(value=1.0, continuous_update=False, desc…"
      ]
     },
     "metadata": {},
     "output_type": "display_data"
    },
    {
     "data": {
      "application/vnd.jupyter.widget-view+json": {
       "model_id": "57f78174fc0e462892bf68525c716e5a",
       "version_major": 2,
       "version_minor": 0
      },
      "text/plain": [
       "Output(layout=Layout(height='600px'))"
      ]
     },
     "metadata": {},
     "output_type": "display_data"
    }
   ],
   "source": [
    "def plot_exp_dis_sig(C_abs = 1.0, phi = 0.0, alpha_abs = 0.5, omega0 = 0*4*np.pi):\n",
    "\n",
    "    n = np.arange(0, 20, 1)\n",
    "\n",
    "    C = C_abs * np.exp(1j * phi)\n",
    "    alpha = alpha_abs * np.exp(1j * omega0)\n",
    "\n",
    "    y_dis = C * alpha**n\n",
    "\n",
    "    n_row = 2\n",
    "    n_col = 3\n",
    "    fig_size = [i*j for i,j in zip(plt.rcParams['figure.figsize'], [n_col, n_row])]\n",
    "    fig = plt.figure(figsize=fig_size)\n",
    "\n",
    "    ax = plt.subplot2grid((n_row, n_col), (0, 0))\n",
    "    ax.plot(n, np.abs(y_dis), ls='--', color=(0.8,0.8,0.8))\n",
    "    ax.plot(n, -np.abs(y_dis), ls='--', color=(0.8,0.8,0.8))\n",
    "    ax.stem(n, y_dis.real, 'C2', use_line_collection=True, markerfmt ='C2o')\n",
    "    ax.set(xlabel='time / samples', ylabel='real(x[n])')\n",
    "\n",
    "    ax = plt.subplot2grid((n_row, n_col), (0, 1))\n",
    "    ax.plot(n, np.abs(y_dis), ls='--', color=(0.8,0.8,0.8))\n",
    "    ax.plot(n, -np.abs(y_dis), ls='--', color=(0.8,0.8,0.8))\n",
    "    ax.stem(n, y_dis.imag, 'orange', use_line_collection=True, markerfmt ='C1o')\n",
    "    ax.set(xlabel='time / samples', ylabel='imag(x[n]')\n",
    "\n",
    "    ax = plt.subplot2grid((n_row, n_col), (1, 0))\n",
    "    ax.stem(n, np.abs(y_dis), use_line_collection=True)\n",
    "    ax.set(xlabel='time / samples', ylabel='abs(x[n]')\n",
    "\n",
    "    ax = plt.subplot2grid((n_row, n_col), (1, 1))\n",
    "    ax.stem(n, np.angle(y_dis), 'r', use_line_collection=True, markerfmt ='C3o')\n",
    "    ax.set(xlabel='time / samples', ylabel='angle(x[n]')    \n",
    "        \n",
    "    ax = plt.subplot2grid((n_row, n_col), (0, 2), rowspan=2)\n",
    "    ax.plot(y_dis.real, y_dis.imag, 'ok');\n",
    "    absMax = 1.1* np.max(np.abs(y_dis))\n",
    "    plt.axis('square')\n",
    "    ax.set(xlabel='real(x[n]', ylabel='imag(x[n])', ylim=(-absMax, absMax), xlim=(-absMax, absMax))\n",
    "    \n",
    "    plt.tight_layout()\n",
    "    plt.show();\n",
    "\n",
    "    \n",
    "style = {'description_width': '30%'}\n",
    "w_C_abs = widgets.FloatSlider(min=0, max=5, step=0.1, value=1.0, continuous_update=False, description=r'$|C|:$', style=style)\n",
    "w_phi = widgets.FloatSlider(min=-3.2, max=3.2, step=0.1, value=0.0, continuous_update=False, description=r'$\\phi:$', style=style)\n",
    "w_alpha_abs = widgets.FloatSlider(min=0, max=1.5, step=0.1, value=0.8, continuous_update=False, description=r'$|\\alpha|:$', style=style)\n",
    "w_omega0 = widgets.FloatSlider(min=-3.2, max=3.2, step=0.1, value=0*2*np.pi, continuous_update=False, description=r'$\\omega_0:$', style=style)\n",
    "\n",
    "left_col = widgets.VBox([widgets.Label('Parameter C'), w_C_abs, w_phi])\n",
    "mid_col = widgets.VBox([widgets.Label(r'Parameter $\\alpha$'), w_alpha_abs, w_omega0])\n",
    "right_col = widgets.VBox([widgets.Label(r'$x[n]=|C| \\cdot \\text{e}^{j\\phi}  \\cdot |\\alpha|^n \\cdot \\text{e}^{j\\omega_0 n}$')])\n",
    "\n",
    "ui = widgets.HBox([left_col, mid_col, right_col])\n",
    "\n",
    "out = widgets.interactive_output(plot_exp_dis_sig, {'C_abs':w_C_abs, 'phi':w_phi, 'alpha_abs':w_alpha_abs, 'omega0':w_omega0})\n",
    "out.layout.height = '600px'\n",
    "\n",
    "display(ui, out)"
   ]
  },
  {
   "cell_type": "code",
   "execution_count": null,
   "metadata": {},
   "outputs": [],
   "source": []
  }
 ],
 "metadata": {
  "kernelspec": {
   "display_name": "Python 3",
   "language": "python",
   "name": "python3"
  },
  "language_info": {
   "codemirror_mode": {
    "name": "ipython",
    "version": 3
   },
   "file_extension": ".py",
   "mimetype": "text/x-python",
   "name": "python",
   "nbconvert_exporter": "python",
   "pygments_lexer": "ipython3",
   "version": "3.7.6"
  }
 },
 "nbformat": 4,
 "nbformat_minor": 4
}
