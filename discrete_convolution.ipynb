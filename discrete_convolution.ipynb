{
 "cells": [
  {
   "cell_type": "markdown",
   "metadata": {},
   "source": [
    "# TODO!!!"
   ]
  },
  {
   "cell_type": "markdown",
   "metadata": {},
   "source": [
    "This demo is supposed ???. \n",
    "\n",
    "This demo is written by [Markus Nölle](https://www.htw-berlin.de/hochschule/personen/person/?eid=9586) for a basic course on signals and systems hold at the [university of applied siences, Berlin](https://www.htw-berlin.de/)."
   ]
  },
  {
   "cell_type": "markdown",
   "metadata": {},
   "source": [
    "**Import libraries**"
   ]
  },
  {
   "cell_type": "code",
   "execution_count": 2,
   "metadata": {},
   "outputs": [],
   "source": [
    "import numpy as np\n",
    "import matplotlib.pyplot as plt\n",
    "from scipy import signal\n",
    "import ipywidgets as widgets\n",
    "\n",
    "plt.style.use('noelle.mplstyle')"
   ]
  },
  {
   "cell_type": "markdown",
   "metadata": {},
   "source": [
    "**???**"
   ]
  },
  {
   "cell_type": "markdown",
   "metadata": {},
   "source": [
    "A [discrete time](https://en.wikipedia.org/wiki/Discrete_time_and_continuous_time) [linear filter](https://en.wikipedia.org/wiki/Linear_filter) can be classified based on its [impulse response](https://en.wikipedia.org/wiki/Impulse_response). In case that the output of the filter is only dependent on the current and previous samples of the input singal (as shown below), the impulse response is of finite duration. Hence, this kind of filters is called [finite impulse response (FIR)](https://en.wikipedia.org/wiki/Finite_impulse_response) filters.\n",
    "\n",
    "<img src=\"https://upload.wikimedia.org/wikipedia/commons/9/9b/FIR_Filter.svg\" width=\"400\">\n",
    "\n",
    "If, on the other hand, the output of the filter only depends on previous samples of the filtered output, the filter is recursive (see block diagramm below) and its impulse response is of infinite length. For this reason this kind of filters are called [infinite impulse response (IIR)](https://en.wikipedia.org/wiki/Infinite_impulse_response) filter.\n",
    "\n",
    "<img src=\"https://upload.wikimedia.org/wikipedia/commons/d/d2/IIRFilter2.svg\" width=\"400\">\n",
    "\n",
    "In general, digital filters consist of both, a feedforward and a feedback (a recursive) path as depicted below. \n",
    "\n",
    "<img src=\"https://upload.wikimedia.org/wikipedia/commons/d/d5/IIR-filter.png\" width=\"400\">\n",
    "\n",
    "In this example a noisy ([additive white gaussian noise (AWGN)](https://en.wikipedia.org/wiki/Additive_white_Gaussian_noise)) cosine singal is fed into a digital filter and the effect of the filter on this signal, together with the filters impulse is visualized. The selectable filter types are\n",
    "\n",
    "* a [moving average filter](https://en.wikipedia.org/wiki/Finite_impulse_response#Moving_average_example) with variable number of filter taps (FIR filter) and\n",
    "* a [first order recursive filter](https://en.wikipedia.org/wiki/Infinite_impulse_response#Example) with variable amplitude of the feedback coefficient (IIR filter).\n",
    "\n",
    "\n",
    "\n",
    "\n"
   ]
  },
  {
   "cell_type": "code",
   "execution_count": 3,
   "metadata": {},
   "outputs": [
    {
     "data": {
      "application/vnd.jupyter.widget-view+json": {
       "model_id": "fc3e9e6abc33416fa60d05fea20d0895",
       "version_major": 2,
       "version_minor": 0
      },
      "text/plain": [
       "HBox(children=(RadioButtons(description='filter type:', options=('FIR', 'IIR'), value='FIR'), IntSlider(value=…"
      ]
     },
     "metadata": {},
     "output_type": "display_data"
    },
    {
     "data": {
      "application/vnd.jupyter.widget-view+json": {
       "model_id": "cdd5c96f7ab14a66b85148699663e6d1",
       "version_major": 2,
       "version_minor": 0
      },
      "text/plain": [
       "Output(layout=Layout(height='500px'))"
      ]
     },
     "metadata": {},
     "output_type": "display_data"
    }
   ],
   "source": [
    "def plot_discrete_system(type='FIR', N=1, alpha=0.01):\n",
    "    \n",
    "    # generate noisy cosine signal\n",
    "    n = np.arange(0, 101, 1)\n",
    "    x = np.cos(2 * np.pi * 0.02 * n)\n",
    "    np.random.seed(1)\n",
    "    x = x + 0.3 * np.random.standard_normal(x.shape)\n",
    "    X = np.fft.fft(x)\n",
    "    XNorm = X / np.max(np.abs(X))\n",
    "\n",
    "    Omega = np.linspace(-np.pi, np.pi, n.size)\n",
    "    \n",
    "    # genaerate impulse response\n",
    "    if type == 'FIR':\n",
    "        # running mean filter or...\n",
    "        h = np.ones(N)/N\n",
    "    else:\n",
    "        # ... first order recursive system\n",
    "        h = alpha**n\n",
    "        h = h / np.sum(np.abs(h))\n",
    "\n",
    "    # convolution CHECK!!\n",
    "    y = signal.convolve(x, h, mode='full')\n",
    "    \n",
    "    # ploting stuff    \n",
    "    n_row = 1\n",
    "    n_col = 2\n",
    "    fig_size = [i*j for i,j in zip(plt.rcParams['figure.figsize'], [n_col, n_row])]\n",
    "    fig = plt.figure(figsize=fig_size)\n",
    "\n",
    "    ax = fig.add_subplot(n_row, n_col, 1)\n",
    "    ax.stem(h, linefmt='C0-', markerfmt='C0o', use_line_collection=True)\n",
    "    ax.set(xlabel='n', ylabel='h[n]', xlim=(0, n.size))\n",
    "\n",
    "    ax = fig.add_subplot(n_row, n_col, 2)\n",
    "    ax.plot(n, x, 'C0o')\n",
    "    ax.plot(y, 'C1o')\n",
    "    ax.set(xlabel='n', ylabel='amplitude', xlim=(0, n.size),  ylim=(-2, 2))\n",
    "    ax.legend(['input signal (x[n])','output signal (y[n])'], loc='lower left')\n",
    "    \n",
    "    plt.tight_layout()\n",
    "    plt.show()\n",
    "    \n",
    "style = {'description_width': '40%'}\n",
    "w_type = widgets.RadioButtons(options=['FIR', 'IIR'], value='FIR', description='filter type:', disabled=False)\n",
    "#w_type = widgets.FloatSlider(min=0.1, max=2, step=0.1, value=1.0, continuous_update=False, description=r'width $\\left(T_0\\right)$:', style=style)\n",
    "w_N = widgets.IntSlider(min=1, max=50, step=1, value=1, continuous_update=False, description=r'FIR filter order:', style=style)\n",
    "w_alpha = widgets.FloatSlider(min=0.01, max=1, step=0.01, value=0.01, continuous_update=False, description=r'IIR filter coefficient:', style=style)\n",
    "\n",
    "ui = widgets.HBox([w_type, w_N, w_alpha])\n",
    "\n",
    "out = widgets.interactive_output(plot_discrete_system, {'type':w_type, 'N':w_N, 'alpha':w_alpha})\n",
    "out.layout.height = '500px'\n",
    "\n",
    "display(ui, out)"
   ]
  }
 ],
 "metadata": {
  "kernelspec": {
   "display_name": "Python 3",
   "language": "python",
   "name": "python3"
  },
  "language_info": {
   "codemirror_mode": {
    "name": "ipython",
    "version": 3
   },
   "file_extension": ".py",
   "mimetype": "text/x-python",
   "name": "python",
   "nbconvert_exporter": "python",
   "pygments_lexer": "ipython3",
   "version": "3.7.4"
  }
 },
 "nbformat": 4,
 "nbformat_minor": 4
}
