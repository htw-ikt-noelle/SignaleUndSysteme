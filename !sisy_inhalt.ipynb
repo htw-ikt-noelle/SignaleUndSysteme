{
 "cells": [
  {
   "cell_type": "markdown",
   "id": "bcc8035e-6a73-46c2-a71c-20ca89188c27",
   "metadata": {},
   "source": [
    "# Signale und Systeme\n",
    "\n",
    "## Signale\n",
    " 1. [Komplexe Zahlen](complex_numbers.ipynb)\n",
    " 1. [Exponentialsignale](exponential_signals.ipynb)\n",
    " 1. [cos -> exp als Animation](exp2cos.ipynb)\n",
    " 1. [Faltung (Animation)](convolution_animation.ipynb)\n",
    " 1. [Faltung](convolution.ipynb)\n",
    " 1. [Fourierreihe](fourier_series.ipynb)\n",
    " 1. [Eigenschaften der Fouriertransformation](properties_fourier_transform.ipynb)\n",
    " 1. [FFT Beispiel](fft_example.ipynb)\n",
    " 1. [Zeitverschiebung](delay_phase_shift.ipynb)\n",
    " 1. [Diskrete Faltung](discrete_convolution.ipynb)\n",
    "\n",
    "\n",
    "## Systeme\n",
    " 1. [Frequenzgang](frequency_response.ipynb)\n",
    " 1. [Diskreter Frequenzgang](discrete_frequency_response.ipynb)\n",
    "\n",
    "## Literatur"
   ]
  }
 ],
 "metadata": {
  "kernelspec": {
   "display_name": "Python 3 (ipykernel)",
   "language": "python",
   "name": "python3"
  },
  "language_info": {
   "codemirror_mode": {
    "name": "ipython",
    "version": 3
   },
   "file_extension": ".py",
   "mimetype": "text/x-python",
   "name": "python",
   "nbconvert_exporter": "python",
   "pygments_lexer": "ipython3",
   "version": "3.11.4"
  }
 },
 "nbformat": 4,
 "nbformat_minor": 5
}
