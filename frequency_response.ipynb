{
 "cells": [
  {
   "cell_type": "markdown",
   "metadata": {},
   "source": [
    "# Demonstration of the frequency response of LTI systems"
   ]
  },
  {
   "cell_type": "markdown",
   "metadata": {},
   "source": [
    "This demo is supposed to visualize the impulse and frequency resoponse of a continous time linear time-invariant system. In this demo a simple RC lowpass filter is used as axample. \n",
    "\n",
    "This demo is written by [Markus Nölle](https://www.htw-berlin.de/hochschule/personen/person/?eid=9586) for a basic course on signals and systems hold at the [university of applied sciences, Berlin](https://www.htw-berlin.de/)."
   ]
  },
  {
   "cell_type": "markdown",
   "metadata": {},
   "source": [
    "**Import libraries**"
   ]
  },
  {
   "cell_type": "code",
   "execution_count": 1,
   "metadata": {},
   "outputs": [],
   "source": [
    "import numpy as np\n",
    "import matplotlib.pyplot as plt\n",
    "from scipy import signal\n",
    "import ipywidgets as widgets\n",
    "\n",
    "plt.style.use('noelle.mplstyle')"
   ]
  },
  {
   "cell_type": "markdown",
   "metadata": {},
   "source": [
    "**Effect of a RC lowpass on a rectangular input signal**"
   ]
  },
  {
   "cell_type": "markdown",
   "metadata": {},
   "source": [
    "A rectangular input signal of the form\n",
    "$$ x(t)=\\sqcap_{T_0}(t-t_0) $$\n",
    "is passed through a [linear time-invariant (LTI) system](https://en.wikipedia.org/wiki/Linear_time-invariant_system). In this case, the system is a [first order RC lowpass filter](https://en.wikipedia.org/wiki/Low-pass_filter#RC_filter) shown below  \n",
    "\n",
    "![RC lowpass](https://upload.wikimedia.org/wikipedia/commons/e/e0/1st_Order_Lowpass_Filter_RC.svg)\n",
    "\n",
    "This system has an [impulse response](https://en.wikipedia.org/wiki/Impulse_response) of \n",
    "$$ h(t)=\\sigma(t)\\frac{1}{\\tau}e^{-t/\\tau},$$\n",
    "where $\\tau=RC$ with $R$ being the [resistance](https://en.wikipedia.org/wiki/Electrical_resistance_and_conductance) in Ohm and $C$ being the [capacitance](https://en.wikipedia.org/wiki/Capacitance) in Farad, respectively. Further, $\\sigma(t)$ is the [Heaviside step function](https://en.wikipedia.org/wiki/Heaviside_step_function). This corrsponds to a [frequency response](https://en.wikipedia.org/wiki/Frequency_response) of the form\n",
    "$$ H(j\\omega)= \\frac{1}{1+j\\omega\\tau}.$$\n",
    " \n",
    "Following the theory of linear systems, the output signal is given as a convolution of the input signal and the impulse response\n",
    "$$y(t)= x(t)\\ast h(t),$$\n",
    "or equivalently, as a multiplication of the input sepectrum and the frequency response\n",
    "$$Y(j\\omega)= X(j\\omega)\\cdot H(j\\omega).$$\n",
    "\n",
    "This relationship is shown in the following animation, while the [time constant ($\\tau$)](https://en.wikipedia.org/wiki/Time_constant) and therewith also the [cutoff frequency](https://en.wikipedia.org/wiki/Cutoff_frequency) of the filter can be varied.\n"
   ]
  },
  {
   "cell_type": "code",
   "execution_count": 2,
   "metadata": {},
   "outputs": [
    {
     "data": {
      "application/vnd.jupyter.widget-view+json": {
       "model_id": "ec224a60569545f4b3e15a656edbeb95",
       "version_major": 2,
       "version_minor": 0
      },
      "text/plain": [
       "FloatSlider(value=0.01, continuous_update=False, description='$\\\\tau$:', max=0.8, min=0.01, step=0.01)"
      ]
     },
     "metadata": {},
     "output_type": "display_data"
    },
    {
     "data": {
      "application/vnd.jupyter.widget-view+json": {
       "model_id": "6cf94ebcb09240189428bd5a071e3aa5",
       "version_major": 2,
       "version_minor": 0
      },
      "text/plain": [
       "Output(layout=Layout(height='600px'))"
      ]
     },
     "metadata": {},
     "output_type": "display_data"
    }
   ],
   "source": [
    "def testFun(tau=0.1):\n",
    "    \n",
    "    sr = 100 # sample rate\n",
    "\n",
    "    dur = 10 # duration of signals in s\n",
    "    T0 = 1 # width of rectangle in s\n",
    "    T = T0/2 # repetition period in s \n",
    "    dutyCyle = T0 / T # duty cycle of rect\n",
    "    t0 = 1 # tempral shift of pulse\n",
    "    f_cutoff = 1/tau/2/np.pi\n",
    "\n",
    "    t = np.arange(0, dur, 1 / sr)\n",
    "    f = np.fft.fftshift(np.fft.fftfreq(t.size, 1 / sr))\n",
    "\n",
    "    # generate signal\n",
    "    data = np.zeros(t.size)\n",
    "\n",
    "    # rect-pulse\n",
    "    data[(t-t0 > (T-T0/2)) & (t-t0 < (T+T0/2))] = 1\n",
    "\n",
    "    # calc spectrum of data signal (and normalize)\n",
    "    Data = np.fft.fft(data)\n",
    "    DataNorm = Data / np.max(np.abs(Data))\n",
    "\n",
    "    # exponential decaying h of length 1 s\n",
    "    h = np.exp(-t/tau)/tau\n",
    "    h = h / np.sum(h)\n",
    "\n",
    "    # frequency response (and normalize)\n",
    "    H = np.fft.fft(h)\n",
    "    HNorm = H / np.max(np.abs(H))\n",
    "\n",
    "    # plots\n",
    "    n_row = 2\n",
    "    n_col = 2\n",
    "    fig_size = [i*j for i,j in zip(plt.rcParams['figure.figsize'], [n_col, n_row])]\n",
    "    fig, ax = plt.subplots(n_row, n_col, figsize=fig_size)\n",
    "   \n",
    "    ax[0][0].plot(t,h/h[0])\n",
    "    ax[0][0].set_xlabel('time / s')\n",
    "    ax[0][0].set_ylabel('h(t)/h(0)')\n",
    "    ax[0][0].set_xlim(-1, 5) \n",
    "    \n",
    "    ax[0][1].plot(f, np.fft.fftshift(np.abs(HNorm)))\n",
    "    ax[0][1].set_xlabel('frequency / Hz')\n",
    "    ax[0][1].set_ylabel('$|H(j\\omega)/H(0)|$')\n",
    "    ax[0][1].set_xlim(-10, 10)\n",
    "    ax[0][1].set_ylim(0, 1.1)\n",
    "    ax[0][1].text(-9, 1.0, 'cutoff frequency: {0:.1f} Hz'.format(f_cutoff))\n",
    "    \n",
    "    \n",
    "    DataFiltNorm = DataNorm * HNorm\n",
    "    DataFilt = Data * H\n",
    "    dataFilt = np.real(np.fft.ifft(DataFilt))\n",
    "\n",
    "    ax[1][1].plot(f, np.fft.fftshift(np.abs(DataNorm)), f, np.fft.fftshift(np.abs(DataFiltNorm)))\n",
    "    ax[1][1].set_xlabel('frequency / Hz')\n",
    "    ax[1][1].set_ylabel('norm. amplitude / a.u.')\n",
    "    ax[1][1].set_xlim(-10, 10)    \n",
    "    ax[1][1].legend(['input signal $(|X(j\\omega)|)$','output signal $(|Y(j\\omega)|)$'])  \n",
    "\n",
    "    ax[1][0].plot(t, data, t, dataFilt)\n",
    "    ax[1][0].set_xlabel('time / s')\n",
    "    ax[1][0].set_ylabel('amplitude / a.u.') \n",
    "    ax[1][0].set_xlim(0, 5)   \n",
    "    ax[1][0].legend(['input signal (x(t))','output signal (y(t))'])    \n",
    "    \n",
    "    plt.tight_layout()\n",
    "    plt.show()\n",
    "\n",
    "w_tau = widgets.FloatSlider(min=0.01, max=0.8, step=0.01, value=0.01, continuous_update=False, description=r'$\\tau$:')\n",
    "\n",
    "out = widgets.interactive_output(testFun, {'tau':w_tau})\n",
    "out.layout.height = '600px'\n",
    "\n",
    "display(w_tau, out)"
   ]
  },
  {
   "cell_type": "code",
   "execution_count": null,
   "metadata": {},
   "outputs": [],
   "source": []
  }
 ],
 "metadata": {
  "kernelspec": {
   "display_name": "Python 3",
   "language": "python",
   "name": "python3"
  },
  "language_info": {
   "codemirror_mode": {
    "name": "ipython",
    "version": 3
   },
   "file_extension": ".py",
   "mimetype": "text/x-python",
   "name": "python",
   "nbconvert_exporter": "python",
   "pygments_lexer": "ipython3",
   "version": "3.7.6"
  }
 },
 "nbformat": 4,
 "nbformat_minor": 4
}
