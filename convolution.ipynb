{
 "cells": [
  {
   "cell_type": "markdown",
   "metadata": {},
   "source": [
    "# Visualization of the convolution operation"
   ]
  },
  {
   "cell_type": "markdown",
   "metadata": {},
   "source": [
    "This demo is supposed to visualize the [convolution](https://en.wikipedia.org/wiki/Convolution) operation. \n",
    "\n",
    "This demo is written by [Markus Nölle](https://www.htw-berlin.de/hochschule/personen/person/?eid=9586) for a basic course on signals and systems hold at the [university of applied sciences, Berlin](https://www.htw-berlin.de/)."
   ]
  },
  {
   "cell_type": "markdown",
   "metadata": {},
   "source": [
    "## Import libraries and define defaults"
   ]
  },
  {
   "cell_type": "code",
   "execution_count": 1,
   "metadata": {},
   "outputs": [],
   "source": [
    "import numpy as np\n",
    "import matplotlib.pyplot as plt\n",
    "from scipy import signal\n",
    "import ipywidgets as widgets\n",
    "\n",
    "plt.style.use('noelle.mplstyle')"
   ]
  },
  {
   "cell_type": "markdown",
   "metadata": {},
   "source": [
    "## Define helper functions"
   ]
  },
  {
   "cell_type": "code",
   "execution_count": 2,
   "metadata": {},
   "outputs": [],
   "source": [
    "def generate_signal(t, type):    \n",
    "     \n",
    "    if type == 'rect':\n",
    "        sig = np.zeros(t.size)        \n",
    "        sig[np.abs(t) <= 1/2]= 1\n",
    "    \n",
    "    elif type == 'exp':\n",
    "        # decay rate\n",
    "        alpha = -5        \n",
    "        sig = np.exp(alpha * t)\n",
    "        sig[t<0] = 0\n",
    "        \n",
    "    elif type == 'dirac':\n",
    "        sig = np.zeros(t.size)\n",
    "        sig[int(np.size(t)/2)] = 1\n",
    "    \n",
    "    return sig"
   ]
  },
  {
   "cell_type": "code",
   "execution_count": 3,
   "metadata": {},
   "outputs": [],
   "source": [
    "def plot_signals(t, sr, x, y, tau, dur):\n",
    "    \n",
    "    # reverse\n",
    "    y_flip = y[::-1]\n",
    "    y_flip_shift = np.roll(y_flip, int(tau*sr))\n",
    "    \n",
    "    overlap_surface = x * y_flip_shift\n",
    "    \n",
    "    idx = np.argmin(np.abs(t-tau))\n",
    "    \n",
    "    z = signal.convolve(x, y, mode='same')    \n",
    "    \n",
    "    # prepare plots\n",
    "    n_row = 2\n",
    "    n_col = 3\n",
    "    fig_size = [i*j for i,j in zip(plt.rcParams['figure.figsize'], [n_col, n_row])]\n",
    "    fig = plt.figure(figsize=fig_size)\n",
    "    \n",
    "    # plot time signal    \n",
    "    ax = fig.add_subplot(2, 3, 1)\n",
    "    ax.plot(t, x, 'C0')\n",
    "    ax.set_xlim(-dur/2, dur/2)\n",
    "    ax.set_xlabel('time / s')\n",
    "    ax.set_ylabel(r'x($\\tau$) / a.u.') \n",
    "    \n",
    "    ax = fig.add_subplot(2, 3, 2)\n",
    "    ax.plot(t, y, 'C3')\n",
    "    ax.set_xlim(-dur/2, dur/2)\n",
    "    ax.set_xlabel('time / s')\n",
    "    ax.set_ylabel(r'y($\\tau$) / a.u.')\n",
    "    \n",
    "    ax = fig.add_subplot(2, 3, 3)\n",
    "    ax.plot(t, y_flip_shift, 'C1')\n",
    "    ax.set_xlim(-dur/2, dur/2)\n",
    "    ax.set_xlabel('time / s')\n",
    "    ax.set_ylabel(r'y(t-$\\tau$) / a.u.')\n",
    "    \n",
    "    ax = fig.add_subplot(2, 3, 4)\n",
    "    ax.plot(t, x, 'C0', t, y_flip_shift, 'C1')\n",
    "    poly = ax.fill_between(t, np.zeros_like(overlap_surface), overlap_surface, color='C2', alpha=0.5)\n",
    "    ax.set_xlim(-dur/2, dur/2)\n",
    "    ax.set_xlabel('time / s')\n",
    "    ax.set_ylabel('amplitude / a.u.')\n",
    "    ax.legend([r'x(t)',r'y(t-$\\tau$)'])\n",
    "    y_lim = ax.get_ylim()\n",
    "    \n",
    "    ax = fig.add_subplot(2, 3, 5)\n",
    "    ax.plot(t, overlap_surface, 'black')\n",
    "    poly = ax.fill_between(t, np.zeros_like(overlap_surface), overlap_surface, color='C2', alpha=0.5)\n",
    "    ax.set_xlim(-dur/2, dur/2)\n",
    "    ax.set_xlabel('time / s')\n",
    "    ax.set_ylim(y_lim)\n",
    "    ax.set_ylabel(r'x(t)*y(t-$\\tau$) / a.u.')    \n",
    "    \n",
    "    ax = fig.add_subplot(2, 3, 6)\n",
    "    ax.plot(t, z, 'C2')\n",
    "    line = ax.plot(t[idx], z[idx], marker='o', markersize=12, markerfacecolor='red')\n",
    "    ax.set_xlim(-dur/2, dur/2)\n",
    "    ax.set_xlabel('time / s')\n",
    "    ax.set_ylabel('z(t) / a.u.')\n",
    "    \n",
    "    plt.tight_layout()\n",
    "    plt.show()"
   ]
  },
  {
   "cell_type": "code",
   "execution_count": 4,
   "metadata": {},
   "outputs": [],
   "source": [
    "def visualize_convolution(tau, signal1_type, signal2_type):   \n",
    "    \n",
    "    sr = 1000 # sample rate\n",
    "    dur = 5 # duration of signals in s    \n",
    "    t = np.arange(-dur/2, dur/2, 1/sr)\n",
    "    \n",
    "    x = generate_signal(t, signal1_type)\n",
    "    y = generate_signal(t, signal2_type)\n",
    "    \n",
    "    plot_signals(t, sr, x, y, tau, dur)"
   ]
  },
  {
   "cell_type": "markdown",
   "metadata": {},
   "source": [
    "## Actual visualization"
   ]
  },
  {
   "cell_type": "markdown",
   "metadata": {},
   "source": [
    "This interactive demo lets you inspect the steps of the [convolution](https://en.wikipedia.org/wiki/Convolution) operation, formal given as \n",
    "\\begin{eqnarray}\n",
    "z(t)&=&x(t)\\ast y(t)\\\\\n",
    "&=&\\int_{-\\infty}^{\\infty}x(\\tau)\\cdot y(t-\\tau) d\\tau.\n",
    "\\end{eqnarray}\n",
    "\n",
    "This formal definition of the convolution operation can visually be interpreted as following steps:\n",
    "* flip of the second signal around the origin $\\left(y(-\\tau)\\right)$\n",
    "* temporal shift of the flipped signal by $-t$ $\\left(y(t-\\tau)\\right)$\n",
    "* multiplication of the first signal with the flipped and shifted signal $\\left(x(\\tau)\\cdot y(t-\\tau)\\right)$\n",
    "* integration of the result of this multiplication $\\left(\\int_{-\\infty}^{\\infty}x(\\tau)\\cdot y(t-\\tau) d\\tau\\right)$.\n",
    "\n",
    "The above steps are depicted in the following graphs and can be visualized for different types of signals, namely a [rectangular pulse](https://en.wikipedia.org/wiki/Rectangular_function), an [exponential decay](https://en.wikipedia.org/wiki/Exponential_function) and a [Dirac impulse](https://en.wikipedia.org/wiki/Dirac_delta_function). \n",
    "\n",
    "Please note, that the properties of the individual functions (like width, decay rate, shifts, etc.) cannot be changed via sliders. However, feel free to experiment with different functions and properties by simply changing the code in the `generate_signal` function above."
   ]
  },
  {
   "cell_type": "code",
   "execution_count": 5,
   "metadata": {},
   "outputs": [
    {
     "data": {
      "application/vnd.jupyter.widget-view+json": {
       "model_id": "4da9f0cde02748d3a6d07860a4a83852",
       "version_major": 2,
       "version_minor": 0
      },
      "text/plain": [
       "HBox(children=(FloatSlider(value=0.2, continuous_update=False, description='t:', max=2.0, min=-2.0), RadioButt…"
      ]
     },
     "metadata": {},
     "output_type": "display_data"
    },
    {
     "data": {
      "application/vnd.jupyter.widget-view+json": {
       "model_id": "621eb69c568b409397e2fe37f5c90a1b",
       "version_major": 2,
       "version_minor": 0
      },
      "text/plain": [
       "Output(layout=Layout(height='600px'))"
      ]
     },
     "metadata": {},
     "output_type": "display_data"
    }
   ],
   "source": [
    "w_tau = widgets.FloatSlider(min=-2., max=2., step=0.1, value=0.2, continuous_update=False, description='t:')\n",
    "w_signal1 = widgets.RadioButtons(options=['rect', 'exp', 'dirac'], value='rect', description='Signal 1:', disabled=False)\n",
    "w_signal2 = widgets.RadioButtons(options=['rect', 'exp', 'dirac'], value='rect', description='Signal 2:', disabled=False)\n",
    "\n",
    "ui = widgets.HBox([w_tau, w_signal1, w_signal2])\n",
    "out = widgets.interactive_output(visualize_convolution, {'tau':w_tau, 'signal1_type':w_signal1, 'signal2_type':w_signal2})\n",
    "out.layout.height = '600px'\n",
    "# display all\n",
    "display(ui, out)"
   ]
  },
  {
   "cell_type": "code",
   "execution_count": null,
   "metadata": {},
   "outputs": [],
   "source": []
  },
  {
   "cell_type": "code",
   "execution_count": null,
   "metadata": {},
   "outputs": [],
   "source": []
  }
 ],
 "metadata": {
  "kernelspec": {
   "display_name": "Python 3",
   "language": "python",
   "name": "python3"
  },
  "language_info": {
   "codemirror_mode": {
    "name": "ipython",
    "version": 3
   },
   "file_extension": ".py",
   "mimetype": "text/x-python",
   "name": "python",
   "nbconvert_exporter": "python",
   "pygments_lexer": "ipython3",
   "version": "3.7.6"
  }
 },
 "nbformat": 4,
 "nbformat_minor": 4
}
